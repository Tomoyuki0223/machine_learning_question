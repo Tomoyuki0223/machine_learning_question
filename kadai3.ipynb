{
  "nbformat": 4,
  "nbformat_minor": 0,
  "metadata": {
    "colab": {
      "name": "kadai3.ipynb",
      "provenance": [],
      "collapsed_sections": [],
      "authorship_tag": "ABX9TyM5BtKzyqEnw7ztMnbsa08A",
      "include_colab_link": true
    },
    "kernelspec": {
      "name": "python3",
      "display_name": "Python 3"
    },
    "language_info": {
      "name": "python"
    }
  },
  "cells": [
    {
      "cell_type": "markdown",
      "metadata": {
        "id": "view-in-github",
        "colab_type": "text"
      },
      "source": [
        "<a href=\"https://colab.research.google.com/github/Tomoyuki0223/machine_learning_question/blob/main/kadai3.ipynb\" target=\"_parent\"><img src=\"https://colab.research.google.com/assets/colab-badge.svg\" alt=\"Open In Colab\"/></a>"
      ]
    },
    {
      "cell_type": "code",
      "execution_count": 1,
      "metadata": {
        "colab": {
          "base_uri": "https://localhost:8080/"
        },
        "id": "fzqM3GqWjYIt",
        "outputId": "87eff2f5-3307-44e5-86fe-e5706850ba6f"
      },
      "outputs": [
        {
          "output_type": "stream",
          "name": "stdout",
          "text": [
            "Collecting japanize-matplotlib\n",
            "  Downloading japanize-matplotlib-1.1.3.tar.gz (4.1 MB)\n",
            "\u001b[K     |████████████████████████████████| 4.1 MB 5.1 MB/s \n",
            "\u001b[?25hRequirement already satisfied: matplotlib in /usr/local/lib/python3.7/dist-packages (from japanize-matplotlib) (3.2.2)\n",
            "Requirement already satisfied: pyparsing!=2.0.4,!=2.1.2,!=2.1.6,>=2.0.1 in /usr/local/lib/python3.7/dist-packages (from matplotlib->japanize-matplotlib) (3.0.6)\n",
            "Requirement already satisfied: kiwisolver>=1.0.1 in /usr/local/lib/python3.7/dist-packages (from matplotlib->japanize-matplotlib) (1.3.2)\n",
            "Requirement already satisfied: cycler>=0.10 in /usr/local/lib/python3.7/dist-packages (from matplotlib->japanize-matplotlib) (0.11.0)\n",
            "Requirement already satisfied: python-dateutil>=2.1 in /usr/local/lib/python3.7/dist-packages (from matplotlib->japanize-matplotlib) (2.8.2)\n",
            "Requirement already satisfied: numpy>=1.11 in /usr/local/lib/python3.7/dist-packages (from matplotlib->japanize-matplotlib) (1.19.5)\n",
            "Requirement already satisfied: six>=1.5 in /usr/local/lib/python3.7/dist-packages (from python-dateutil>=2.1->matplotlib->japanize-matplotlib) (1.15.0)\n",
            "Building wheels for collected packages: japanize-matplotlib\n",
            "  Building wheel for japanize-matplotlib (setup.py) ... \u001b[?25l\u001b[?25hdone\n",
            "  Created wheel for japanize-matplotlib: filename=japanize_matplotlib-1.1.3-py3-none-any.whl size=4120275 sha256=d32f473802d6b66093d38be2d5b0f1e135f61fa506253cc75bac13a75af72717\n",
            "  Stored in directory: /root/.cache/pip/wheels/83/97/6b/e9e0cde099cc40f972b8dd23367308f7705ae06cd6d4714658\n",
            "Successfully built japanize-matplotlib\n",
            "Installing collected packages: japanize-matplotlib\n",
            "Successfully installed japanize-matplotlib-1.1.3\n"
          ]
        }
      ],
      "source": [
        "!pip install japanize-matplotlib"
      ]
    },
    {
      "cell_type": "code",
      "source": [
        "import numpy as np\n",
        "import matplotlib.pyplot as plt\n",
        "import japanize_matplotlib"
      ],
      "metadata": {
        "id": "xl5DHTmSjatM"
      },
      "execution_count": 2,
      "outputs": []
    },
    {
      "cell_type": "code",
      "source": [
        "x_T = np.array([ 0.  ,  0.16,  0.22,  0.34,  0.44,  0.5 ,  0.67,  0.73,  0.9 ,  1.  ])\n",
        "y_T = np.array([-0.06,  0.94,  0.97,  0.85,  0.25,  0.09, -0.9 , -0.93, -0.53,  0.08])\n",
        "x = x_T.reshape(-1, 1) #列ベクトルに変換\n",
        "y = y_T.reshape(-1, 1) #列ベクトルに変換"
      ],
      "metadata": {
        "id": "KtYZ5E9DjfUi"
      },
      "execution_count": 3,
      "outputs": []
    },
    {
      "cell_type": "code",
      "source": [
        "alfa_1 = 10**-9\n",
        "alfa_2 = 10**-6\n",
        "alfa_3 = 10**-3\n",
        "alfa_4 = 1"
      ],
      "metadata": {
        "id": "t9EEfsJf6Wmv"
      },
      "execution_count": 4,
      "outputs": []
    },
    {
      "cell_type": "markdown",
      "source": [
        "#（1）9次関数によるリッジ回帰"
      ],
      "metadata": {
        "id": "6fWmrHhz3YFN"
      }
    },
    {
      "cell_type": "code",
      "source": [
        "X_2_to = np.concatenate([x, x**2, x**3, x**4, x**5, x**6, x**7, x**8, x**9], 1)\n",
        "X = np.insert(X_2_to, 0, 1, axis=1) #1列目に単位行列を入れる\n",
        "X_T = X.T\n",
        "X_T_X = np.dot(X_T, X) #X_T * X"
      ],
      "metadata": {
        "id": "vloLGBO_1pHO"
      },
      "execution_count": 5,
      "outputs": []
    },
    {
      "cell_type": "code",
      "source": [
        "X_T_X_plus_alfa_I_1 = X_T_X + alfa_1 * np.eye(10) #X_T*X + α*I\n",
        "X_T_X_inv_1 = np.linalg.inv(X_T_X_plus_alfa_I_1)\n",
        "omega_1 = X_T_X_inv_1 @ X_T @ y\n",
        "y_1 = np.dot(X, omega_1)"
      ],
      "metadata": {
        "id": "7cEJf77G579f"
      },
      "execution_count": 6,
      "outputs": []
    },
    {
      "cell_type": "code",
      "source": [
        "X_T_X_plus_alfa_I_2 = X_T_X + alfa_2 * np.eye(10) #X_T*X + α*I\n",
        "X_T_X_inv_2 = np.linalg.inv(X_T_X_plus_alfa_I_2)\n",
        "omega_2 = X_T_X_inv_2 @ X_T @ y\n",
        "y_2 = np.dot(X, omega_2)"
      ],
      "metadata": {
        "id": "3WYpY_FR6AQu"
      },
      "execution_count": 7,
      "outputs": []
    },
    {
      "cell_type": "code",
      "source": [
        "X_T_X_plus_alfa_I_3 = X_T_X + alfa_3 * np.eye(10) #X_T*X + α*I\n",
        "X_T_X_inv_3 = np.linalg.inv(X_T_X_plus_alfa_I_3)\n",
        "omega_3 = X_T_X_inv_3 @ X_T @ y\n",
        "y_3 = np.dot(X, omega_3)"
      ],
      "metadata": {
        "id": "m5RMUlYl8KTe"
      },
      "execution_count": 8,
      "outputs": []
    },
    {
      "cell_type": "code",
      "source": [
        "X_T_X_plus_alfa_I_4 = X_T_X + alfa_4 * np.eye(10) #X_T*X + α*I\n",
        "X_T_X_inv_4 = np.linalg.inv(X_T_X_plus_alfa_I_4)\n",
        "omega_4 = X_T_X_inv_4 @ X_T @ y\n",
        "y_4 = np.dot(X, omega_4)"
      ],
      "metadata": {
        "id": "LFM77uct8ffd"
      },
      "execution_count": 9,
      "outputs": []
    },
    {
      "cell_type": "code",
      "source": [
        "x_plot = np.linspace(0, 1, 1000)\n",
        "y_plot_1 = np.polyval(omega_1[::-1],x_plot)\n",
        "y_plot_2 = np.polyval(omega_2[::-1],x_plot)\n",
        "y_plot_3 = np.polyval(omega_3[::-1],x_plot)\n",
        "y_plot_4 = np.polyval(omega_4[::-1],x_plot)\n",
        "\n",
        "fig, ax = plt.subplots(dpi=100)\n",
        "ax.scatter(x, y, marker='o', color='b')\n",
        "ax.plot(x_plot, y_plot_1, label=r'α=10^(-9)')\n",
        "ax.plot(x_plot, y_plot_2, label=r'α=10^(-6)')\n",
        "ax.plot(x_plot, y_plot_3, label=r'α=10^(-3)')\n",
        "ax.plot(x_plot, y_plot_4, label=r'α=1')\n",
        "ax.set_xlabel('$x$')\n",
        "ax.set_ylabel('$y$')\n",
        "ax.set_ylim(-1.2, 1.2)\n",
        "plt.legend(loc='upper right')\n",
        "ax.grid()"
      ],
      "metadata": {
        "colab": {
          "base_uri": "https://localhost:8080/",
          "height": 380
        },
        "id": "9VxXN03D8jh9",
        "outputId": "0637140c-db90-49bb-810f-4824bacfdc78"
      },
      "execution_count": 10,
      "outputs": [
        {
          "output_type": "display_data",
          "data": {
            "image/png": "[encoded data removed]",
            "text/plain": [
              "<Figure size 600x400 with 1 Axes>"
            ]
          },
          "metadata": {
            "needs_background": "light"
          }
        }
      ]
    },
    {
      "cell_type": "markdown",
      "source": [
        "#（2）パラメータのL2ノルム"
      ],
      "metadata": {
        "id": "q7jKhVsdF77o"
      }
    },
    {
      "cell_type": "markdown",
      "source": [
        "### （i）α=10^(-9)の場合"
      ],
      "metadata": {
        "id": "RCf8ylCMSZJN"
      }
    },
    {
      "cell_type": "code",
      "source": [
        "ipu_1 = y - y_1\n",
        "purpose_1_1_sqrt = np.linalg.norm(ipu_1, ord=2) #||y - Xω||\n",
        "purpose_1_1 = purpose_1_1_sqrt**2 #||y - Xω||^2"
      ],
      "metadata": {
        "id": "ss4T925r-Ko2"
      },
      "execution_count": 11,
      "outputs": []
    },
    {
      "cell_type": "code",
      "source": [
        "purpose_1_2_sqrt = np.linalg.norm(omega_1, ord=2) #||ω||\n",
        "purpose_1 = purpose_1_1 + alfa_1 * purpose_1_2_sqrt**2\n",
        "purpose_1"
      ],
      "metadata": {
        "colab": {
          "base_uri": "https://localhost:8080/"
        },
        "id": "J2A4F9N_Il8L",
        "outputId": "1d407dee-957f-40a2-eac1-a17ea2d50d55"
      },
      "execution_count": 12,
      "outputs": [
        {
          "output_type": "execute_result",
          "data": {
            "text/plain": [
              "0.024080337569994184"
            ]
          },
          "metadata": {},
          "execution_count": 12
        }
      ]
    },
    {
      "cell_type": "markdown",
      "source": [
        "### （ii）α=10^(-6)の場合"
      ],
      "metadata": {
        "id": "92C0XP3sTK0k"
      }
    },
    {
      "cell_type": "code",
      "source": [
        "ipu_2 = y - y_2\n",
        "purpose_2_1_sqrt = np.linalg.norm(ipu_2, ord=2)\n",
        "purpose_2_1 = purpose_2_1_sqrt**2"
      ],
      "metadata": {
        "id": "rBx4dXk6JyU-"
      },
      "execution_count": 13,
      "outputs": []
    },
    {
      "cell_type": "code",
      "source": [
        "purpose_2_2_sqrt = np.linalg.norm(omega_2, ord=2)\n",
        "purpose_2 = purpose_2_1 + alfa_2 * purpose_2_2_sqrt**2\n",
        "purpose_2"
      ],
      "metadata": {
        "colab": {
          "base_uri": "https://localhost:8080/"
        },
        "id": "JrveAMZuKF8c",
        "outputId": "67ed2f56-21b6-4a08-f59d-3318488c432d"
      },
      "execution_count": 14,
      "outputs": [
        {
          "output_type": "execute_result",
          "data": {
            "text/plain": [
              "0.026071843136479343"
            ]
          },
          "metadata": {},
          "execution_count": 14
        }
      ]
    },
    {
      "cell_type": "markdown",
      "source": [
        "### （iii）α=10^(-3)の場合"
      ],
      "metadata": {
        "id": "EAM4GHJ1TMDu"
      }
    },
    {
      "cell_type": "code",
      "source": [
        "ipu_3 = y - y_3\n",
        "purpose_3_1_sqrt = np.linalg.norm(ipu_3, ord=2)\n",
        "purpose_3_1 = purpose_3_1_sqrt**2"
      ],
      "metadata": {
        "id": "Bdn1oZWuKK66"
      },
      "execution_count": 15,
      "outputs": []
    },
    {
      "cell_type": "code",
      "source": [
        "purpose_3_2_sqrt = np.linalg.norm(omega_3, ord=2)\n",
        "purpose_3 = purpose_3_1 + alfa_3 * purpose_3_2_sqrt**2\n",
        "purpose_3"
      ],
      "metadata": {
        "colab": {
          "base_uri": "https://localhost:8080/"
        },
        "id": "sJZ9QLUAKZEp",
        "outputId": "bab286a1-f072-4259-efe6-86f2edb54116"
      },
      "execution_count": 16,
      "outputs": [
        {
          "output_type": "execute_result",
          "data": {
            "text/plain": [
              "0.40487198125572027"
            ]
          },
          "metadata": {},
          "execution_count": 16
        }
      ]
    },
    {
      "cell_type": "markdown",
      "source": [
        "### （iv）α=1の場合"
      ],
      "metadata": {
        "id": "_aOxrtmHTM0Y"
      }
    },
    {
      "cell_type": "code",
      "source": [
        "ipu_4 = y - y_4\n",
        "purpose_4_1_sqrt = np.linalg.norm(ipu_4, ord=2)\n",
        "purpose_4_1 = purpose_4_1_sqrt**2"
      ],
      "metadata": {
        "id": "inzxzvXdKd85"
      },
      "execution_count": 17,
      "outputs": []
    },
    {
      "cell_type": "code",
      "source": [
        "purpose_4_2_sqrt = np.linalg.norm(omega_4, ord=2)\n",
        "purpose_4 = purpose_4_1 + alfa_4 * purpose_4_2_sqrt**2\n",
        "purpose_4"
      ],
      "metadata": {
        "colab": {
          "base_uri": "https://localhost:8080/"
        },
        "id": "04LUf5UVKrDp",
        "outputId": "89f99e9e-e157-470b-e04a-629c533c1273"
      },
      "execution_count": 18,
      "outputs": [
        {
          "output_type": "execute_result",
          "data": {
            "text/plain": [
              "3.412644248762196"
            ]
          },
          "metadata": {},
          "execution_count": 18
        }
      ]
    },
    {
      "cell_type": "markdown",
      "source": [
        "#（3）検証データに基づくαの選択"
      ],
      "metadata": {
        "id": "AsrYK-AQKz5C"
      }
    },
    {
      "cell_type": "code",
      "source": [
        "x_valid_T = np.array([ 0.05,  0.08,  0.12,  0.16,  0.28,  0.44,  0.47,  0.55,  0.63,  0.99])\n",
        "y_valid_T = np.array([ 0.35,  0.58,  0.68,  0.87,  0.83,  0.45,  0.01, -0.36, -0.83, -0.06])\n",
        "x_valid = x_valid_T.reshape(-1, 1) #列ベクトルに変換\n",
        "y_valid = y_valid_T.reshape(-1, 1) #列ベクトルに変換"
      ],
      "metadata": {
        "id": "knNiZtrlKuXx"
      },
      "execution_count": 19,
      "outputs": []
    },
    {
      "cell_type": "code",
      "source": [
        "y_valid_hat_1 = np.polyval(omega_1[::-1],x_valid)\n",
        "y_valid_hat_2 = np.polyval(omega_2[::-1],x_valid)\n",
        "y_valid_hat_3 = np.polyval(omega_3[::-1],x_valid)\n",
        "y_valid_hat_4 = np.polyval(omega_4[::-1],x_valid)"
      ],
      "metadata": {
        "id": "oA-a4nX1Pmxf"
      },
      "execution_count": 20,
      "outputs": []
    },
    {
      "cell_type": "code",
      "source": [
        "MSR_1 = np.mean((y_valid - y_valid_hat_1) ** 2)\n",
        "MSR_1"
      ],
      "metadata": {
        "colab": {
          "base_uri": "https://localhost:8080/"
        },
        "id": "TAYStCTRLh1w",
        "outputId": "78bce1e4-0539-409c-85e3-d241eea91f6c"
      },
      "execution_count": 21,
      "outputs": [
        {
          "output_type": "execute_result",
          "data": {
            "text/plain": [
              "0.010502323510113673"
            ]
          },
          "metadata": {},
          "execution_count": 21
        }
      ]
    },
    {
      "cell_type": "code",
      "source": [
        "MSR_2 = np.mean((y_valid - y_valid_hat_2) ** 2)\n",
        "MSR_2 #最も汎化性能が高い"
      ],
      "metadata": {
        "colab": {
          "base_uri": "https://localhost:8080/"
        },
        "id": "7AOt8Db3NHtQ",
        "outputId": "9484fb2d-3e2c-43e1-8e18-d9f6b62e1b26"
      },
      "execution_count": 22,
      "outputs": [
        {
          "output_type": "execute_result",
          "data": {
            "text/plain": [
              "0.010066159816947789"
            ]
          },
          "metadata": {},
          "execution_count": 22
        }
      ]
    },
    {
      "cell_type": "code",
      "source": [
        "MSR_3 = np.mean((y_valid - y_valid_hat_3) ** 2)\n",
        "MSR_3"
      ],
      "metadata": {
        "colab": {
          "base_uri": "https://localhost:8080/"
        },
        "id": "425dHZ6qNmKf",
        "outputId": "dcfa0747-e87a-4328-e52d-0724679ebc92"
      },
      "execution_count": 23,
      "outputs": [
        {
          "output_type": "execute_result",
          "data": {
            "text/plain": [
              "0.017790450111694892"
            ]
          },
          "metadata": {},
          "execution_count": 23
        }
      ]
    },
    {
      "cell_type": "code",
      "source": [
        "MSR_4 = np.mean((y_valid - y_valid_hat_4) ** 2)\n",
        "MSR_4"
      ],
      "metadata": {
        "colab": {
          "base_uri": "https://localhost:8080/"
        },
        "id": "dv-SiA5xNp4G",
        "outputId": "c710e683-5884-4e98-fd14-63ca279161c3"
      },
      "execution_count": 24,
      "outputs": [
        {
          "output_type": "execute_result",
          "data": {
            "text/plain": [
              "0.17280430903144864"
            ]
          },
          "metadata": {},
          "execution_count": 24
        }
      ]
    }
  ]
}