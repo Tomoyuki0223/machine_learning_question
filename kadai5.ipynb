{
  "nbformat": 4,
  "nbformat_minor": 0,
  "metadata": {
    "colab": {
      "name": "kadai5.ipynb",
      "provenance": [],
      "collapsed_sections": [],
      "authorship_tag": "ABX9TyNSlL3aO35f8IbKWW9iHwE5",
      "include_colab_link": true
    },
    "kernelspec": {
      "name": "python3",
      "display_name": "Python 3"
    },
    "language_info": {
      "name": "python"
    }
  },
  "cells": [
    {
      "cell_type": "markdown",
      "metadata": {
        "id": "view-in-github",
        "colab_type": "text"
      },
      "source": [
        "<a href=\"https://colab.research.google.com/github/Tomoyuki0223/machine_learning_question/blob/main/kadai5.ipynb\" target=\"_parent\"><img src=\"https://colab.research.google.com/assets/colab-badge.svg\" alt=\"Open In Colab\"/></a>"
      ]
    },
    {
      "cell_type": "code",
      "execution_count": 1,
      "metadata": {
        "id": "bPFzLylIDpwT"
      },
      "outputs": [],
      "source": [
        "import numpy as np\n",
        "import matplotlib.pyplot as plt"
      ]
    },
    {
      "cell_type": "markdown",
      "source": [
        "#（1）確率的勾配降下法によるロジスティック回帰モデルの学習"
      ],
      "metadata": {
        "id": "9qKNP5NrbccW"
      }
    },
    {
      "cell_type": "code",
      "source": [
        "!wget https://archive.ics.uci.edu/ml/machine-learning-databases/00228/smsspamcollection.zip"
      ],
      "metadata": {
        "id": "P4Hprfc8DvdV",
        "colab": {
          "base_uri": "https://localhost:8080/"
        },
        "outputId": "2b746262-0a33-46cf-a777-2e17858ef23e"
      },
      "execution_count": 2,
      "outputs": [
        {
          "output_type": "stream",
          "name": "stdout",
          "text": [
            "--2022-01-25 04:30:19--  https://archive.ics.uci.edu/ml/machine-learning-databases/00228/smsspamcollection.zip\n",
            "Resolving archive.ics.uci.edu (archive.ics.uci.edu)... 128.195.10.252\n",
            "Connecting to archive.ics.uci.edu (archive.ics.uci.edu)|128.195.10.252|:443... connected.\n",
            "HTTP request sent, awaiting response... 200 OK\n",
            "Length: 203415 (199K) [application/x-httpd-php]\n",
            "Saving to: ‘smsspamcollection.zip’\n",
            "\n",
            "smsspamcollection.z 100%[===================>] 198.65K   725KB/s    in 0.3s    \n",
            "\n",
            "2022-01-25 04:30:20 (725 KB/s) - ‘smsspamcollection.zip’ saved [203415/203415]\n",
            "\n"
          ]
        }
      ]
    },
    {
      "cell_type": "code",
      "source": [
        "!unzip smsspamcollection.zip"
      ],
      "metadata": {
        "colab": {
          "base_uri": "https://localhost:8080/"
        },
        "id": "sZDLB5_9cf0_",
        "outputId": "3e4d3bf5-7034-4259-fd6b-9eeb526d8617"
      },
      "execution_count": 3,
      "outputs": [
        {
          "output_type": "stream",
          "name": "stdout",
          "text": [
            "Archive:  smsspamcollection.zip\n",
            "  inflating: SMSSpamCollection       \n",
            "  inflating: readme                  \n"
          ]
        }
      ]
    },
    {
      "cell_type": "code",
      "source": [
        "!head SMSSpamCollection"
      ],
      "metadata": {
        "colab": {
          "base_uri": "https://localhost:8080/"
        },
        "id": "haj7XTFgcfyP",
        "outputId": "d06cf41e-ac05-41c4-dcbb-88087e9af24b"
      },
      "execution_count": 4,
      "outputs": [
        {
          "output_type": "stream",
          "name": "stdout",
          "text": [
            "ham\tGo until jurong point, crazy.. Available only in bugis n great world la e buffet... Cine there got amore wat...\n",
            "ham\tOk lar... Joking wif u oni...\n",
            "spam\tFree entry in 2 a wkly comp to win FA Cup final tkts 21st May 2005. Text FA to 87121 to receive entry question(std txt rate)T&C's apply 08452810075over18's\n",
            "ham\tU dun say so early hor... U c already then say...\n",
            "ham\tNah I don't think he goes to usf, he lives around here though\n",
            "spam\tFreeMsg Hey there darling it's been 3 week's now and no word back! I'd like some fun you up for it still? Tb ok! XxX std chgs to send, £1.50 to rcv\n",
            "ham\tEven my brother is not like to speak with me. They treat me like aids patent.\n",
            "ham\tAs per your request 'Melle Melle (Oru Minnaminunginte Nurungu Vettam)' has been set as your callertune for all Callers. Press *9 to copy your friends Callertune\n",
            "spam\tWINNER!! As a valued network customer you have been selected to receivea £900 prize reward! To claim call 09061701461. Claim code KL341. Valid 12 hours only.\n",
            "spam\tHad your mobile 11 months or more? U R entitled to Update to the latest colour mobiles with camera for Free! Call The Mobile Update Co FREE on 08002986030\n"
          ]
        }
      ]
    },
    {
      "cell_type": "code",
      "source": [
        "import collections\n",
        "\n",
        "def tokenize(s):\n",
        "    return [t.rstrip('.') for t in s.split(' ')]\n",
        "\n",
        "def vectorize(tokens):\n",
        "    return collections.Counter(tokens)\n",
        "\n",
        "def readiter(fi):\n",
        "    for line in fi:\n",
        "        fields = line.strip('\\n').split('\\t')\n",
        "        x = vectorize(tokenize(fields[1]))\n",
        "        y = fields[0]\n",
        "        yield x, y\n",
        "\n",
        "with open('SMSSpamCollection') as fi:\n",
        "    D = [d for d in readiter(fi)]"
      ],
      "metadata": {
        "id": "J4qztDIAcfv3"
      },
      "execution_count": 5,
      "outputs": []
    },
    {
      "cell_type": "code",
      "source": [
        "from sklearn.model_selection import train_test_split\n",
        "\n",
        "#                                   評価データ90%  乱数シード固定\n",
        "Dtrain, Dtest = train_test_split(D, test_size=0.1, random_state=0)"
      ],
      "metadata": {
        "id": "BLS-78A3cfqp"
      },
      "execution_count": 6,
      "outputs": []
    },
    {
      "cell_type": "code",
      "source": [
        "from sklearn.preprocessing import LabelEncoder\n",
        "from sklearn.feature_extraction import DictVectorizer\n",
        "\n",
        "VX = DictVectorizer()\n",
        "VY = LabelEncoder()\n",
        "\n",
        "Xtrain = VX.fit_transform([d[0] for d in Dtrain])\n",
        "Ytrain = VY.fit_transform([d[1] for d in Dtrain])\n",
        "Xtest = VX.transform([d[0] for d in Dtest])\n",
        "Ytest = VY.transform([d[1] for d in Dtest])"
      ],
      "metadata": {
        "id": "SPmUMC1vcfgq"
      },
      "execution_count": 7,
      "outputs": []
    },
    {
      "cell_type": "code",
      "source": [
        "from sklearn.linear_model import SGDClassifier\n",
        "\n",
        "model = SGDClassifier(loss='log')\n",
        "model.fit(Xtrain, Ytrain)"
      ],
      "metadata": {
        "colab": {
          "base_uri": "https://localhost:8080/"
        },
        "id": "i1E26fZlebHB",
        "outputId": "8135b951-a0e8-431f-9d52-62c41a1afb1f"
      },
      "execution_count": 8,
      "outputs": [
        {
          "output_type": "execute_result",
          "data": {
            "text/plain": [
              "SGDClassifier(loss='log')"
            ]
          },
          "metadata": {},
          "execution_count": 8
        }
      ]
    },
    {
      "cell_type": "markdown",
      "source": [
        "#（2）評価データ上での正解率"
      ],
      "metadata": {
        "id": "p2dDMV39bm-y"
      }
    },
    {
      "cell_type": "code",
      "source": [
        "model.score(Xtest, Ytest)"
      ],
      "metadata": {
        "colab": {
          "base_uri": "https://localhost:8080/"
        },
        "id": "3_INfSv4brss",
        "outputId": "44f7e225-027c-4b80-8469-fe4bddf04854"
      },
      "execution_count": 9,
      "outputs": [
        {
          "output_type": "execute_result",
          "data": {
            "text/plain": [
              "0.9731182795698925"
            ]
          },
          "metadata": {},
          "execution_count": 9
        }
      ]
    },
    {
      "cell_type": "markdown",
      "source": [
        "#（3）学習で求めたパラメータ"
      ],
      "metadata": {
        "id": "FB0uoAKQbusN"
      }
    },
    {
      "cell_type": "code",
      "source": [
        "F = sorted(zip(VX.feature_names_, model.coef_[0]), key=lambda x: x[1])"
      ],
      "metadata": {
        "id": "5drISMXxbytR"
      },
      "execution_count": 10,
      "outputs": []
    },
    {
      "cell_type": "markdown",
      "source": [
        "### 正のもの"
      ],
      "metadata": {
        "id": "5Z5L_5PVfaxP"
      }
    },
    {
      "cell_type": "code",
      "source": [
        "F[-20:]"
      ],
      "metadata": {
        "colab": {
          "base_uri": "https://localhost:8080/"
        },
        "id": "PopoMlG1fQ18",
        "outputId": "6c9066c8-68e5-46fd-f626-1ec3ebdad84d"
      },
      "execution_count": 11,
      "outputs": [
        {
          "output_type": "execute_result",
          "data": {
            "text/plain": [
              "[('Text', 1.4817043390831794),\n",
              " ('85233', 1.4950956421430688),\n",
              " ('FREE>Ringtone!Reply', 1.4950956421430688),\n",
              " (\"let's\", 1.5749940415734451),\n",
              " ('To', 1.5833998115644614),\n",
              " ('service', 1.6831713565080022),\n",
              " ('146tf150p', 1.7028064579984128),\n",
              " ('2/2', 1.7028064579984128),\n",
              " ('84484', 1.714294586031035),\n",
              " ('ringtoneking', 1.714294586031035),\n",
              " ('-', 1.7422007814677676),\n",
              " ('text', 1.7611490082460721),\n",
              " ('&', 1.86547995329688),\n",
              " ('mobile', 1.8883323735593995),\n",
              " ('won', 1.9253817014940453),\n",
              " ('now!', 1.989537938960408),\n",
              " ('STOP', 2.026393508510276),\n",
              " ('Txt', 2.0354724356395675),\n",
              " ('txt', 2.22751383733093),\n",
              " ('Call', 2.3734420766962008)]"
            ]
          },
          "metadata": {},
          "execution_count": 11
        }
      ]
    },
    {
      "cell_type": "markdown",
      "source": [
        "### 負のもの"
      ],
      "metadata": {
        "id": "5nSvVNupfgLp"
      }
    },
    {
      "cell_type": "code",
      "source": [
        "F[:20]"
      ],
      "metadata": {
        "colab": {
          "base_uri": "https://localhost:8080/"
        },
        "id": "XHhZaRv7fZjT",
        "outputId": "a1be8474-a6e0-441e-95c7-00d72ab0f73e"
      },
      "execution_count": 12,
      "outputs": [
        {
          "output_type": "execute_result",
          "data": {
            "text/plain": [
              "[('me', -1.2110082882638058),\n",
              " ('&lt;#&gt;', -1.1996467736476164),\n",
              " ('And', -1.1663163998896475),\n",
              " ('I', -1.1309123087253603),\n",
              " ('good', -1.059474832105947),\n",
              " ('him', -1.0551380925817941),\n",
              " ('i', -1.0036154111416336),\n",
              " ('So', -0.9954426435826655),\n",
              " ('my', -0.985113612088496),\n",
              " ('*', -0.924843390664917),\n",
              " ('would', -0.9097704087823121),\n",
              " ('My', -0.9022349736941919),\n",
              " (\"I'll\", -0.8961765277563878),\n",
              " ('come', -0.8739074798885577),\n",
              " ('he', -0.868148155175429),\n",
              " (\"i'm\", -0.8590716422703952),\n",
              " ('&amp;', -0.8498575500132073),\n",
              " ('', -0.835040634016733),\n",
              " ('ME', -0.8343196760503234),\n",
              " ('u', -0.8056400103105738)]"
            ]
          },
          "metadata": {},
          "execution_count": 12
        }
      ]
    }
  ]
}