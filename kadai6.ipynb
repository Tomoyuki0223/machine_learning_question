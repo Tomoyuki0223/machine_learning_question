{
  "nbformat": 4,
  "nbformat_minor": 0,
  "metadata": {
    "colab": {
      "name": "kadai6.ipynb",
      "provenance": [],
      "collapsed_sections": [],
      "authorship_tag": "ABX9TyMEsKS9AMaqE/wAuBNVAt5c",
      "include_colab_link": true
    },
    "kernelspec": {
      "name": "python3",
      "display_name": "Python 3"
    },
    "language_info": {
      "name": "python"
    }
  },
  "cells": [
    {
      "cell_type": "markdown",
      "metadata": {
        "id": "view-in-github",
        "colab_type": "text"
      },
      "source": [
        "<a href=\"https://colab.research.google.com/github/Tomoyuki0223/machine_learning_question/blob/main/kadai6.ipynb\" target=\"_parent\"><img src=\"https://colab.research.google.com/assets/colab-badge.svg\" alt=\"Open In Colab\"/></a>"
      ]
    },
    {
      "cell_type": "code",
      "source": [
        "import numpy as np\n",
        "from sklearn.linear_model import SGDClassifier"
      ],
      "metadata": {
        "id": "zSTCdijMBvU-"
      },
      "execution_count": 1,
      "outputs": []
    },
    {
      "cell_type": "code",
      "execution_count": 3,
      "metadata": {
        "id": "izhSmH4oH1pt"
      },
      "outputs": [],
      "source": [
        "import gzip\n",
        "import sys\n",
        "import struct\n",
        "import urllib.request\n",
        "\n",
        "def read_image(fi):\n",
        "    magic, n, rows, columns = struct.unpack(\">IIII\", fi.read(16))\n",
        "    assert magic == 0x00000803\n",
        "    assert rows == 28\n",
        "    assert columns == 28\n",
        "    rawbuffer = fi.read()\n",
        "    assert len(rawbuffer) == n * rows * columns\n",
        "    rawdata = np.frombuffer(rawbuffer, dtype='>u1', count=n*rows*columns)\n",
        "    return rawdata.reshape(n, rows, columns).astype(np.float32) / 255.0\n",
        "\n",
        "def read_label(fi):\n",
        "    magic, n = struct.unpack(\">II\", fi.read(8))\n",
        "    assert magic == 0x00000801\n",
        "    rawbuffer = fi.read()\n",
        "    assert len(rawbuffer) == n\n",
        "    return np.frombuffer(rawbuffer, dtype='>u1', count=n)\n",
        "\n",
        "def openurl_gzip(url):\n",
        "    request = urllib.request.Request(\n",
        "        url,\n",
        "        headers={\n",
        "            \"Accept-Encoding\": \"gzip\",\n",
        "            \"User-Agent\": \"Mozilla/5.0 (X11; U; Linux i686) Gecko/20071127 Firefox/2.0.0.11\", \n",
        "        })\n",
        "    response = urllib.request.urlopen(request)\n",
        "    return gzip.GzipFile(fileobj=response, mode='rb')\n",
        "\n",
        "if __name__ == '__main__':\n",
        "    np.savez_compressed(\n",
        "        'mnist',\n",
        "        train_x=read_image(openurl_gzip('http://yann.lecun.com/exdb/mnist/train-images-idx3-ubyte.gz')),\n",
        "        train_y=read_label(openurl_gzip('http://yann.lecun.com/exdb/mnist/train-labels-idx1-ubyte.gz')),\n",
        "        test_x=read_image(openurl_gzip('http://yann.lecun.com/exdb/mnist/t10k-images-idx3-ubyte.gz')),\n",
        "        test_y=read_label(openurl_gzip('http://yann.lecun.com/exdb/mnist/t10k-labels-idx1-ubyte.gz'))\n",
        "    )"
      ]
    },
    {
      "cell_type": "markdown",
      "source": [
        "#（1）多クラスロジスティック回帰モデルの学習"
      ],
      "metadata": {
        "id": "uymVlJ9B-OZG"
      }
    },
    {
      "cell_type": "code",
      "source": [
        "def image_to_vector(X):\n",
        "    return np.reshape(X, (len(X), -1))  # Flatten: (N x 28 x 28) -> (N x 784)\n",
        "\n",
        "data = np.load('mnist.npz')\n",
        "Xtrain = image_to_vector(data['train_x'])       # (60000 x 784) (no bias term)\n",
        "Ytrain = data['train_y']                        # (60000) (not one-hot encoding)\n",
        "Xtest = image_to_vector(data['test_x'])         # (10000 x 784) (no bias term)\n",
        "Ytest = data['test_y']                          # (10000) (not one-hot encoding)\n",
        "\n",
        "model = SGDClassifier(loss='log')\n",
        "model.fit(Xtrain, Ytrain)"
      ],
      "metadata": {
        "colab": {
          "base_uri": "https://localhost:8080/"
        },
        "id": "zdOBIiS79mC5",
        "outputId": "b90408e4-7f07-4c6d-8422-ca9431ed9c74"
      },
      "execution_count": 4,
      "outputs": [
        {
          "output_type": "execute_result",
          "data": {
            "text/plain": [
              "SGDClassifier(loss='log')"
            ]
          },
          "metadata": {},
          "execution_count": 4
        }
      ]
    },
    {
      "cell_type": "code",
      "source": [
        "model.predict_proba(Xtest[0:1])"
      ],
      "metadata": {
        "colab": {
          "base_uri": "https://localhost:8080/"
        },
        "id": "B9k853o99vuI",
        "outputId": "b191ede3-a8be-4e51-97ed-63b024e69b9e"
      },
      "execution_count": 5,
      "outputs": [
        {
          "output_type": "execute_result",
          "data": {
            "text/plain": [
              "array([[5.19948620e-05, 5.01807505e-10, 4.46673126e-04, 4.65365525e-02,\n",
              "        1.07185833e-05, 3.13057183e-04, 3.28819854e-08, 9.51520113e-01,\n",
              "        4.04100706e-05, 1.08044760e-03]])"
            ]
          },
          "metadata": {},
          "execution_count": 5
        }
      ]
    },
    {
      "cell_type": "markdown",
      "source": [
        "#（2）評価データ上での正解率"
      ],
      "metadata": {
        "id": "ice0-9h--2a6"
      }
    },
    {
      "cell_type": "code",
      "source": [
        "model.score(Xtest, Ytest)"
      ],
      "metadata": {
        "colab": {
          "base_uri": "https://localhost:8080/"
        },
        "id": "Yl756ebL-728",
        "outputId": "75bd8ee2-f9c5-499b-f3a5-82edcbc81c80"
      },
      "execution_count": 6,
      "outputs": [
        {
          "output_type": "execute_result",
          "data": {
            "text/plain": [
              "0.9133"
            ]
          },
          "metadata": {},
          "execution_count": 6
        }
      ]
    }
  ]
}