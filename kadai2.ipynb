{
  "nbformat": 4,
  "nbformat_minor": 0,
  "metadata": {
    "colab": {
      "name": "kadai2.ipynb",
      "provenance": [],
      "collapsed_sections": [],
      "authorship_tag": "ABX9TyMztGuiD47zv40ir3om/6Ag",
      "include_colab_link": true
    },
    "kernelspec": {
      "name": "python3",
      "display_name": "Python 3"
    },
    "language_info": {
      "name": "python"
    }
  },
  "cells": [
    {
      "cell_type": "markdown",
      "metadata": {
        "id": "view-in-github",
        "colab_type": "text"
      },
      "source": [
        "<a href=\"https://colab.research.google.com/github/Tomoyuki0223/machine_learning_question/blob/main/kadai2.ipynb\" target=\"_parent\"><img src=\"https://colab.research.google.com/assets/colab-badge.svg\" alt=\"Open In Colab\"/></a>"
      ]
    },
    {
      "cell_type": "code",
      "source": [
        "pip install japanize-matplotlib"
      ],
      "metadata": {
        "colab": {
          "base_uri": "https://localhost:8080/"
        },
        "id": "nsM-grB3j11T",
        "outputId": "abe9937b-85fd-4917-fb04-98fac882fb6d"
      },
      "execution_count": 1,
      "outputs": [
        {
          "output_type": "stream",
          "name": "stdout",
          "text": [
            "Collecting japanize-matplotlib\n",
            "  Downloading japanize-matplotlib-1.1.3.tar.gz (4.1 MB)\n",
            "\u001b[K     |████████████████████████████████| 4.1 MB 4.2 MB/s \n",
            "\u001b[?25hRequirement already satisfied: matplotlib in /usr/local/lib/python3.7/dist-packages (from japanize-matplotlib) (3.2.2)\n",
            "Requirement already satisfied: cycler>=0.10 in /usr/local/lib/python3.7/dist-packages (from matplotlib->japanize-matplotlib) (0.11.0)\n",
            "Requirement already satisfied: kiwisolver>=1.0.1 in /usr/local/lib/python3.7/dist-packages (from matplotlib->japanize-matplotlib) (1.3.2)\n",
            "Requirement already satisfied: numpy>=1.11 in /usr/local/lib/python3.7/dist-packages (from matplotlib->japanize-matplotlib) (1.19.5)\n",
            "Requirement already satisfied: pyparsing!=2.0.4,!=2.1.2,!=2.1.6,>=2.0.1 in /usr/local/lib/python3.7/dist-packages (from matplotlib->japanize-matplotlib) (3.0.6)\n",
            "Requirement already satisfied: python-dateutil>=2.1 in /usr/local/lib/python3.7/dist-packages (from matplotlib->japanize-matplotlib) (2.8.2)\n",
            "Requirement already satisfied: six>=1.5 in /usr/local/lib/python3.7/dist-packages (from python-dateutil>=2.1->matplotlib->japanize-matplotlib) (1.15.0)\n",
            "Building wheels for collected packages: japanize-matplotlib\n",
            "  Building wheel for japanize-matplotlib (setup.py) ... \u001b[?25l\u001b[?25hdone\n",
            "  Created wheel for japanize-matplotlib: filename=japanize_matplotlib-1.1.3-py3-none-any.whl size=4120275 sha256=f6acc2bbac7103c19870bc442cb1bd6a1a263e08d098d916eb03e753cb83fd06\n",
            "  Stored in directory: /root/.cache/pip/wheels/83/97/6b/e9e0cde099cc40f972b8dd23367308f7705ae06cd6d4714658\n",
            "Successfully built japanize-matplotlib\n",
            "Installing collected packages: japanize-matplotlib\n",
            "Successfully installed japanize-matplotlib-1.1.3\n"
          ]
        }
      ]
    },
    {
      "cell_type": "code",
      "execution_count": 2,
      "metadata": {
        "id": "PUlEICpPbt1E"
      },
      "outputs": [],
      "source": [
        "import numpy as np\n",
        "import matplotlib.pyplot as plt\n",
        "import japanize_matplotlib"
      ]
    },
    {
      "cell_type": "code",
      "source": [
        "D = np.array([[1, 3], [3, 6], [6, 5], [8, 7]])\n",
        "x_T = D[:,0]\n",
        "y_T = D[:,1]"
      ],
      "metadata": {
        "id": "VpXgb8l1jtoj"
      },
      "execution_count": 3,
      "outputs": []
    },
    {
      "cell_type": "code",
      "source": [
        "x_T = np.reshape(x_T, (1, 4))\n",
        "y_T = np.reshape(y_T, (1, 4))\n",
        "x =  x_T.T\n",
        "y =  y_T.T"
      ],
      "metadata": {
        "id": "0vA2MWU4Un0d"
      },
      "execution_count": 4,
      "outputs": []
    },
    {
      "cell_type": "code",
      "source": [
        "def plot_graph(X, Y, x, y):\n",
        "    fig, ax = plt.subplots(dpi=100)\n",
        "    ax.set_xlim(0, 10)\n",
        "    ax.set_ylim(0, 10)\n",
        "    ax.grid()\n",
        "    ax.scatter(X, Y, marker='.')\n",
        "    ax.plot(x, y, 'r')\n",
        "    fig.show()"
      ],
      "metadata": {
        "id": "GKauHH8o85no"
      },
      "execution_count": 5,
      "outputs": []
    },
    {
      "cell_type": "markdown",
      "source": [
        "# (1)"
      ],
      "metadata": {
        "id": "pegoZy5hRTWj"
      }
    },
    {
      "cell_type": "code",
      "source": [
        "X = np.array([[1, D[0,0]], [1, D[1,0]], [1, D[2,0]], [1, D[3,0]]])"
      ],
      "metadata": {
        "id": "nZ1TGT-wTpey"
      },
      "execution_count": 6,
      "outputs": []
    },
    {
      "cell_type": "code",
      "source": [
        "X_T = X.T"
      ],
      "metadata": {
        "id": "OO2KAMNbW8FC"
      },
      "execution_count": 7,
      "outputs": []
    },
    {
      "cell_type": "code",
      "source": [
        "X_T_X = np.dot(X_T, X)\n",
        "X_T_X_inv = np.linalg.inv(X_T_X)"
      ],
      "metadata": {
        "id": "85XoetpsRPKc"
      },
      "execution_count": 8,
      "outputs": []
    },
    {
      "cell_type": "code",
      "source": [
        "omega = X_T_X_inv @ X_T @ y\n",
        "omega"
      ],
      "metadata": {
        "colab": {
          "base_uri": "https://localhost:8080/"
        },
        "id": "rK-Pjlp5XhG5",
        "outputId": "8bfd2731-5481-45ca-f602-4c92900b4a80"
      },
      "execution_count": 9,
      "outputs": [
        {
          "output_type": "execute_result",
          "data": {
            "text/plain": [
              "array([[3.31034483],\n",
              "       [0.43103448]])"
            ]
          },
          "metadata": {},
          "execution_count": 9
        }
      ]
    },
    {
      "cell_type": "markdown",
      "source": [
        "# (2)"
      ],
      "metadata": {
        "id": "HFPsMb0laz2_"
      }
    },
    {
      "cell_type": "code",
      "source": [
        "X2 = np.array([[1, D[0,0], D[0,0]**2], [1, D[1,0], D[1,0]**2], [1, D[2,0], D[2,0]**2], [1, D[3,0], D[3,0]**2]])"
      ],
      "metadata": {
        "id": "0_ws8YMiYtl8"
      },
      "execution_count": 10,
      "outputs": []
    },
    {
      "cell_type": "code",
      "source": [
        "X2_T = X2.T"
      ],
      "metadata": {
        "id": "6OxTWJ6NfsGO"
      },
      "execution_count": 11,
      "outputs": []
    },
    {
      "cell_type": "code",
      "source": [
        "X2_T_X2 = np.dot(X2_T, X2)\n",
        "X2_T_X2_inv = np.linalg.inv(X2_T_X2)"
      ],
      "metadata": {
        "id": "rvJtRcCvftgG"
      },
      "execution_count": 12,
      "outputs": []
    },
    {
      "cell_type": "code",
      "source": [
        "omega2 = X2_T_X2_inv @ X2_T @ y\n",
        "omega2"
      ],
      "metadata": {
        "colab": {
          "base_uri": "https://localhost:8080/"
        },
        "id": "Cl96n53nfxPu",
        "outputId": "b4f78560-edd1-4da6-bdfb-1e8b114e74a2"
      },
      "execution_count": 13,
      "outputs": [
        {
          "output_type": "execute_result",
          "data": {
            "text/plain": [
              "array([[ 2.66034483],\n",
              "       [ 0.88103448],\n",
              "       [-0.05      ]])"
            ]
          },
          "metadata": {},
          "execution_count": 13
        }
      ]
    },
    {
      "cell_type": "markdown",
      "source": [
        "# (3)"
      ],
      "metadata": {
        "id": "Aqnbo7XIf7Ao"
      }
    },
    {
      "cell_type": "code",
      "source": [
        "x_plot = np.linspace(0, 10, 100)\n",
        "y_hat_2ji = omega2[0] + omega2[1]*x_plot + omega2[2]*x_plot**2\n",
        "plot_graph(x, y, x_plot, y_hat_2ji)"
      ],
      "metadata": {
        "colab": {
          "base_uri": "https://localhost:8080/",
          "height": 366
        },
        "id": "ZzecwfvegWCu",
        "outputId": "9e27b4e7-d201-4f7a-c246-07adc373b45d"
      },
      "execution_count": 14,
      "outputs": [
        {
          "output_type": "display_data",
          "data": {
            "image/png": "[encoded data removed]",
            "text/plain": [
              "<Figure size 600x400 with 1 Axes>"
            ]
          },
          "metadata": {
            "needs_background": "light"
          }
        }
      ]
    },
    {
      "cell_type": "markdown",
      "source": [
        "# (4)"
      ],
      "metadata": {
        "id": "C5Vtm2BrioHr"
      }
    },
    {
      "cell_type": "code",
      "source": [
        "y_bar = sum(y)/len(y)"
      ],
      "metadata": {
        "id": "tKm0Qfl3jmkT"
      },
      "execution_count": 15,
      "outputs": []
    },
    {
      "cell_type": "code",
      "source": [
        "ipusiron_2ji = y - np.dot(X2, omega2)"
      ],
      "metadata": {
        "id": "yZMb3BszgjY-"
      },
      "execution_count": 16,
      "outputs": []
    },
    {
      "cell_type": "code",
      "source": [
        "ipusiron_2ji_bar = sum(ipusiron_2ji)/len(ipusiron_2ji)"
      ],
      "metadata": {
        "id": "3rBBrZSJjdKu"
      },
      "execution_count": 17,
      "outputs": []
    },
    {
      "cell_type": "code",
      "source": [
        "var_ipu_2ji = sum((ipusiron_2ji-ipusiron_2ji_bar)**2)/len(ipusiron_2ji)\n",
        "var_y = sum((y-y_bar)**2)/len(y)"
      ],
      "metadata": {
        "id": "fidHW7NxjRF8"
      },
      "execution_count": 18,
      "outputs": []
    },
    {
      "cell_type": "code",
      "source": [
        "R_2_2ji = 1-(var_ipu_2ji/var_y)\n",
        "R_2_2ji"
      ],
      "metadata": {
        "colab": {
          "base_uri": "https://localhost:8080/"
        },
        "id": "NcgmjNBWjwES",
        "outputId": "38716bf6-b4e7-44cf-d2b3-4ae2aac285d6"
      },
      "execution_count": 28,
      "outputs": [
        {
          "output_type": "execute_result",
          "data": {
            "text/plain": [
              "array([0.64433498])"
            ]
          },
          "metadata": {},
          "execution_count": 28
        }
      ]
    },
    {
      "cell_type": "markdown",
      "source": [
        "# (5)"
      ],
      "metadata": {
        "id": "J0q6mI5NkDvL"
      }
    },
    {
      "cell_type": "code",
      "source": [
        "X3_2_to_4_T = np.array([D[:,0], D[:,0]**2, D[:,0]**3])\n",
        "X3_2_to_4 = X3_2_to_4_T.T\n",
        "X3 = np.insert(X3_2_to_4, 0, 1, axis=1)\n",
        "X3_T = X3.T"
      ],
      "metadata": {
        "id": "uWVXpqQbkDHk"
      },
      "execution_count": 20,
      "outputs": []
    },
    {
      "cell_type": "code",
      "source": [
        "X3_T_X3 = np.dot(X3_T, X3)\n",
        "X3_T_X3_inv = np.linalg.inv(X3_T_X3)"
      ],
      "metadata": {
        "id": "d23yFK4HnvUS"
      },
      "execution_count": 21,
      "outputs": []
    },
    {
      "cell_type": "code",
      "source": [
        "omega3 = X3_T_X3_inv @ X3_T @ y\n",
        "omega3"
      ],
      "metadata": {
        "colab": {
          "base_uri": "https://localhost:8080/"
        },
        "id": "ZF3BKkZpnxPg",
        "outputId": "3d3c56e1-caa2-4621-c27b-079c3953da4b"
      },
      "execution_count": 22,
      "outputs": [
        {
          "output_type": "execute_result",
          "data": {
            "text/plain": [
              "array([[-1.22857143],\n",
              "       [ 5.40952381],\n",
              "       [-1.27142857],\n",
              "       [ 0.09047619]])"
            ]
          },
          "metadata": {},
          "execution_count": 22
        }
      ]
    },
    {
      "cell_type": "markdown",
      "source": [
        "# (6)"
      ],
      "metadata": {
        "id": "rDkUZgk3oBM6"
      }
    },
    {
      "cell_type": "code",
      "source": [
        "y_hat_3ji = omega3[0] + omega3[1]*x_plot + omega3[2]*x_plot**2 + omega3[3]*x_plot**3\n",
        "plot_graph(x, y, x_plot, y_hat_3ji)"
      ],
      "metadata": {
        "colab": {
          "base_uri": "https://localhost:8080/",
          "height": 366
        },
        "id": "c-snxVgQny5Q",
        "outputId": "e84ed543-b504-47d3-fe68-c1e6502e69c5"
      },
      "execution_count": 23,
      "outputs": [
        {
          "output_type": "display_data",
          "data": {
            "image/png": "[encoded data removed]",
            "text/plain": [
              "<Figure size 600x400 with 1 Axes>"
            ]
          },
          "metadata": {
            "needs_background": "light"
          }
        }
      ]
    },
    {
      "cell_type": "markdown",
      "source": [
        "# (7)"
      ],
      "metadata": {
        "id": "WfY23fCUpV15"
      }
    },
    {
      "cell_type": "code",
      "source": [
        "ipusiron_3ji = y - np.dot(X3, omega3)"
      ],
      "metadata": {
        "id": "z6m03AgaoOhh"
      },
      "execution_count": 24,
      "outputs": []
    },
    {
      "cell_type": "code",
      "source": [
        "ipusiron_3ji_bar = sum(ipusiron_3ji)/len(ipusiron_3ji)"
      ],
      "metadata": {
        "id": "wLPuvGouo9rG"
      },
      "execution_count": 25,
      "outputs": []
    },
    {
      "cell_type": "code",
      "source": [
        "var_ipu_3ji = sum((ipusiron_3ji-ipusiron_3ji_bar)**2)/len(ipusiron_3ji)"
      ],
      "metadata": {
        "id": "MLiPRNsQo_p2"
      },
      "execution_count": 26,
      "outputs": []
    },
    {
      "cell_type": "code",
      "source": [
        "R_2_3ji = 1-(var_ipu_3ji/var_y)\n",
        "R_2_3ji"
      ],
      "metadata": {
        "colab": {
          "base_uri": "https://localhost:8080/"
        },
        "id": "caU54dpdpDNm",
        "outputId": "d1ad6f08-444c-4e1b-8fce-6011cbdc62e9"
      },
      "execution_count": 29,
      "outputs": [
        {
          "output_type": "execute_result",
          "data": {
            "text/plain": [
              "array([1.])"
            ]
          },
          "metadata": {},
          "execution_count": 29
        }
      ]
    }
  ]
}