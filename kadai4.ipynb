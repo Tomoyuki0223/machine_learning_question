{
  "nbformat": 4,
  "nbformat_minor": 0,
  "metadata": {
    "colab": {
      "name": "kadai4.ipynb",
      "provenance": [],
      "collapsed_sections": [],
      "authorship_tag": "ABX9TyNxh1DnL5pL4mhuKHrcyxeC",
      "include_colab_link": true
    },
    "kernelspec": {
      "name": "python3",
      "display_name": "Python 3"
    },
    "language_info": {
      "name": "python"
    }
  },
  "cells": [
    {
      "cell_type": "markdown",
      "metadata": {
        "id": "view-in-github",
        "colab_type": "text"
      },
      "source": [
        "<a href=\"https://colab.research.google.com/github/Tomoyuki0223/machine_learning_question/blob/main/kadai4.ipynb\" target=\"_parent\"><img src=\"https://colab.research.google.com/assets/colab-badge.svg\" alt=\"Open In Colab\"/></a>"
      ]
    },
    {
      "cell_type": "code",
      "execution_count": 449,
      "metadata": {
        "id": "3afnTXc5kK26",
        "colab": {
          "base_uri": "https://localhost:8080/"
        },
        "outputId": "8d186b7f-ae6b-4885-a70e-b1e94fb72fac"
      },
      "outputs": [
        {
          "output_type": "stream",
          "name": "stdout",
          "text": [
            "Requirement already satisfied: japanize-matplotlib in /usr/local/lib/python3.7/dist-packages (1.1.3)\n",
            "Requirement already satisfied: matplotlib in /usr/local/lib/python3.7/dist-packages (from japanize-matplotlib) (3.2.2)\n",
            "Requirement already satisfied: cycler>=0.10 in /usr/local/lib/python3.7/dist-packages (from matplotlib->japanize-matplotlib) (0.11.0)\n",
            "Requirement already satisfied: kiwisolver>=1.0.1 in /usr/local/lib/python3.7/dist-packages (from matplotlib->japanize-matplotlib) (1.3.2)\n",
            "Requirement already satisfied: pyparsing!=2.0.4,!=2.1.2,!=2.1.6,>=2.0.1 in /usr/local/lib/python3.7/dist-packages (from matplotlib->japanize-matplotlib) (3.0.6)\n",
            "Requirement already satisfied: python-dateutil>=2.1 in /usr/local/lib/python3.7/dist-packages (from matplotlib->japanize-matplotlib) (2.8.2)\n",
            "Requirement already satisfied: numpy>=1.11 in /usr/local/lib/python3.7/dist-packages (from matplotlib->japanize-matplotlib) (1.19.5)\n",
            "Requirement already satisfied: six>=1.5 in /usr/local/lib/python3.7/dist-packages (from python-dateutil>=2.1->matplotlib->japanize-matplotlib) (1.15.0)\n"
          ]
        }
      ],
      "source": [
        "!pip install japanize-matplotlib"
      ]
    },
    {
      "cell_type": "code",
      "source": [
        "import numpy as np\n",
        "import matplotlib.pyplot as plt\n",
        "import matplotlib.collections\n",
        "import matplotlib.animation\n",
        "import matplotlib.colors\n",
        "from IPython.display import HTML"
      ],
      "metadata": {
        "id": "KLakr_0KK1U4"
      },
      "execution_count": 450,
      "outputs": []
    },
    {
      "cell_type": "code",
      "source": [
        "def plot_graph(X, Y, x, y):\n",
        "    fig, ax = plt.subplots(dpi=100)\n",
        "    ax.set_xlim(0, 1)\n",
        "    ax.set_ylim(-1, 1)\n",
        "    ax.grid()\n",
        "    ax.scatter(X, Y, marker='.')\n",
        "    ax.plot(x, y, 'r')\n",
        "    fig.show()"
      ],
      "metadata": {
        "id": "JDr0GX_Jc9sF"
      },
      "execution_count": 451,
      "outputs": []
    },
    {
      "cell_type": "markdown",
      "source": [
        "# (1)(2) 反復式：リッジ回帰モデル"
      ],
      "metadata": {
        "id": "xA-u9SRz4JkQ"
      }
    },
    {
      "cell_type": "code",
      "source": [
        "#  J(ω) = L(ω) + αR(ω)\n",
        "#          Σ{(yi - xi.T * ω)^2 + α||ω||^2/N}\n",
        "#  よって、ω(t+1) = (1 - 2αη/N)ω(t) - 2η(yi_hat - yi)xi\n",
        "#  ω(t)の前に重みを減衰させる係数が現れる"
      ],
      "metadata": {
        "id": "IjWrUt6y4Wv8"
      },
      "execution_count": 452,
      "outputs": []
    },
    {
      "cell_type": "markdown",
      "source": [
        "#（3）リッジ回帰の実装"
      ],
      "metadata": {
        "id": "q-pI-vQdg9gq"
      }
    },
    {
      "cell_type": "code",
      "source": [
        "x_T = np.array([ 0.  ,  0.16,  0.22,  0.34,  0.44,  0.5 ,  0.67,  0.73,  0.9 ,  1.  ])\n",
        "y_T = np.array([-0.06,  0.94,  0.97,  0.85,  0.25,  0.09, -0.9 , -0.93, -0.53,  0.08])\n",
        "x = x_T.reshape(-1, 1) #列ベクトルに変換\n",
        "y = y_T.reshape(-1, 1) #列ベクトルに変換"
      ],
      "metadata": {
        "id": "QKr2UES6iwJE"
      },
      "execution_count": 453,
      "outputs": []
    },
    {
      "cell_type": "code",
      "source": [
        "eta0 = 100\n",
        "eps = 1e-4"
      ],
      "metadata": {
        "id": "9Az7HwhwgQ1t"
      },
      "execution_count": 454,
      "outputs": []
    },
    {
      "cell_type": "code",
      "source": [
        "X = np.concatenate([x**3, x**2, x, np.ones_like(x)], axis=1)\n",
        "w = np.zeros(4)\n",
        "alfa = 1e-3\n",
        "N = X.shape[0]"
      ],
      "metadata": {
        "id": "RajwWGJek7Yw"
      },
      "execution_count": 455,
      "outputs": []
    },
    {
      "cell_type": "code",
      "source": [
        "while True:\n",
        "    eta = eta0 / np.sqrt(1+t)\n",
        "    i = np.random.randint(0, X.shape[0])\n",
        "    y_hat = np.dot(X[i], w)\n",
        "    grad = 2 * (y_hat - y[i]) * X[i]\n",
        "    if np.sum(np.abs(grad)) < eps:\n",
        "        break\n",
        "    omomi = 1 - (2 * alfa * eta / N)\n",
        "    w = omomi * w - eta * grad"
      ],
      "metadata": {
        "id": "Ti_nmM4ThEU0"
      },
      "execution_count": 456,
      "outputs": []
    },
    {
      "cell_type": "code",
      "source": [
        "x_plot = np.linspace(0, 1, 100)\n",
        "y_hat_final = np.polyval(w,x_plot)\n",
        "plot_graph(x, y, x_plot, y_hat_final)"
      ],
      "metadata": {
        "id": "lyp8RdiDlEKQ",
        "colab": {
          "base_uri": "https://localhost:8080/",
          "height": 368
        },
        "outputId": "fbfb2c79-95e1-4806-c38b-69647704667f"
      },
      "execution_count": 457,
      "outputs": [
        {
          "output_type": "display_data",
          "data": {
            "image/png": "[encoded data removed]",
            "text/plain": [
              "<Figure size 600x400 with 1 Axes>"
            ]
          },
          "metadata": {
            "needs_background": "light"
          }
        }
      ]
    }
  ]
}