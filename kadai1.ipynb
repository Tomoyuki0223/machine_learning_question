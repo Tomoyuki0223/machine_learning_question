{
  "nbformat": 4,
  "nbformat_minor": 0,
  "metadata": {
    "colab": {
      "name": "kadai1.ipynb",
      "provenance": [],
      "collapsed_sections": [],
      "authorship_tag": "ABX9TyM3rtLDT27Ur1DjakRuIHYp",
      "include_colab_link": true
    },
    "kernelspec": {
      "name": "python3",
      "display_name": "Python 3"
    },
    "language_info": {
      "name": "python"
    }
  },
  "cells": [
    {
      "cell_type": "markdown",
      "metadata": {
        "id": "view-in-github",
        "colab_type": "text"
      },
      "source": [
        "<a href=\"https://colab.research.google.com/github/Tomoyuki0223/machine_learning_question/blob/main/kadai1.ipynb\" target=\"_parent\"><img src=\"https://colab.research.google.com/assets/colab-badge.svg\" alt=\"Open In Colab\"/></a>"
      ]
    },
    {
      "cell_type": "code",
      "source": [
        "!pip install japanize-matplotlib"
      ],
      "metadata": {
        "colab": {
          "base_uri": "https://localhost:8080/"
        },
        "id": "JeIlI_rooRak",
        "outputId": "89261ac9-bd65-46b3-fc26-0e7f82207bd4"
      },
      "execution_count": null,
      "outputs": [
        {
          "output_type": "stream",
          "name": "stdout",
          "text": [
            "Collecting japanize-matplotlib\n",
            "  Downloading japanize-matplotlib-1.1.3.tar.gz (4.1 MB)\n",
            "\u001b[K     |████████████████████████████████| 4.1 MB 5.1 MB/s \n",
            "\u001b[?25hRequirement already satisfied: matplotlib in /usr/local/lib/python3.7/dist-packages (from japanize-matplotlib) (3.2.2)\n",
            "Requirement already satisfied: cycler>=0.10 in /usr/local/lib/python3.7/dist-packages (from matplotlib->japanize-matplotlib) (0.11.0)\n",
            "Requirement already satisfied: kiwisolver>=1.0.1 in /usr/local/lib/python3.7/dist-packages (from matplotlib->japanize-matplotlib) (1.3.2)\n",
            "Requirement already satisfied: python-dateutil>=2.1 in /usr/local/lib/python3.7/dist-packages (from matplotlib->japanize-matplotlib) (2.8.2)\n",
            "Requirement already satisfied: numpy>=1.11 in /usr/local/lib/python3.7/dist-packages (from matplotlib->japanize-matplotlib) (1.19.5)\n",
            "Requirement already satisfied: pyparsing!=2.0.4,!=2.1.2,!=2.1.6,>=2.0.1 in /usr/local/lib/python3.7/dist-packages (from matplotlib->japanize-matplotlib) (3.0.6)\n",
            "Requirement already satisfied: six>=1.5 in /usr/local/lib/python3.7/dist-packages (from python-dateutil>=2.1->matplotlib->japanize-matplotlib) (1.15.0)\n",
            "Building wheels for collected packages: japanize-matplotlib\n",
            "  Building wheel for japanize-matplotlib (setup.py) ... \u001b[?25l\u001b[?25hdone\n",
            "  Created wheel for japanize-matplotlib: filename=japanize_matplotlib-1.1.3-py3-none-any.whl size=4120275 sha256=d889f6a04ffc2652f0eb4e33b48c3bd1ff6341252de1edc30d1e3ba3ea8e5be4\n",
            "  Stored in directory: /root/.cache/pip/wheels/83/97/6b/e9e0cde099cc40f972b8dd23367308f7705ae06cd6d4714658\n",
            "Successfully built japanize-matplotlib\n",
            "Installing collected packages: japanize-matplotlib\n",
            "Successfully installed japanize-matplotlib-1.1.3\n"
          ]
        }
      ]
    },
    {
      "cell_type": "code",
      "source": [
        "import numpy as np\n",
        "import matplotlib.pyplot as plt\n",
        "import matplotlib.patches\n",
        "import matplotlib.colors\n",
        "import matplotlib.animation\n",
        "from IPython.display import HTML\n",
        "import japanize_matplotlib"
      ],
      "metadata": {
        "id": "nUqSDLOAn_hU"
      },
      "execution_count": null,
      "outputs": []
    },
    {
      "cell_type": "code",
      "source": [
        "def show_graph(X, Y, x, y):\n",
        "    fig, ax = plt.subplots(dpi=100)\n",
        "    ax.scatter(X, Y, marker='.')\n",
        "    ax.plot(x, y, 'tab:red')\n",
        "    ax.set_xlabel('X')\n",
        "    ax.set_ylabel('Y')\n",
        "    ax.set_xlim(0, 10)\n",
        "    ax.set_ylim(0, 10)\n",
        "    ax.grid()\n",
        "    fig.show()"
      ],
      "metadata": {
        "id": "2scadA9HqJ2Q"
      },
      "execution_count": null,
      "outputs": []
    },
    {
      "cell_type": "markdown",
      "source": [
        "#（1）単回帰の実装"
      ],
      "metadata": {
        "id": "DjpN9NGLQNPZ"
      }
    },
    {
      "cell_type": "code",
      "source": [
        "D = np.array([[1, 3], [3, 6], [6, 5], [8, 7]])\n",
        "X = D[:,0]\n",
        "Y = D[:,1]"
      ],
      "metadata": {
        "id": "pwgtW8JiQGW8"
      },
      "execution_count": null,
      "outputs": []
    },
    {
      "cell_type": "code",
      "source": [
        "x_bar = sum(X)/len(X)\n",
        "x2_bar = sum(X**2)/len(X)\n",
        "y_bar = sum(Y)/len(Y)\n",
        "xy_bar = sum(X*Y)/len(X)"
      ],
      "metadata": {
        "id": "7uT9gzVuofTQ"
      },
      "execution_count": null,
      "outputs": []
    },
    {
      "cell_type": "code",
      "source": [
        "a = (xy_bar-x_bar*y_bar)/(x2_bar-x_bar**2)\n",
        "a"
      ],
      "metadata": {
        "id": "7WYcjrxDrLAE",
        "colab": {
          "base_uri": "https://localhost:8080/"
        },
        "outputId": "f16f3afe-fa81-4b95-b983-4fe2012cd752"
      },
      "execution_count": null,
      "outputs": [
        {
          "output_type": "execute_result",
          "data": {
            "text/plain": [
              "0.43103448275862066"
            ]
          },
          "metadata": {},
          "execution_count": 6
        }
      ]
    },
    {
      "cell_type": "code",
      "source": [
        "b = y_bar-a*x_bar\n",
        "b"
      ],
      "metadata": {
        "id": "fXrfgKtpsWt_",
        "colab": {
          "base_uri": "https://localhost:8080/"
        },
        "outputId": "b718def3-8f5f-4736-9c8c-1f4884c082fb"
      },
      "execution_count": null,
      "outputs": [
        {
          "output_type": "execute_result",
          "data": {
            "text/plain": [
              "3.3103448275862073"
            ]
          },
          "metadata": {},
          "execution_count": 7
        }
      ]
    },
    {
      "cell_type": "markdown",
      "source": [
        "#（2）回帰直線の描画"
      ],
      "metadata": {
        "id": "N1DfFGXMsoJe"
      }
    },
    {
      "cell_type": "code",
      "source": [
        "x = np.linspace(0, 10, 100)\n",
        "y_hat = a*x+b\n",
        "show_graph(X, Y, x, y_hat)"
      ],
      "metadata": {
        "colab": {
          "base_uri": "https://localhost:8080/",
          "height": 385
        },
        "id": "gyajToitsf_g",
        "outputId": "3ffcc251-605a-4768-b17f-264172bb4fa5"
      },
      "execution_count": null,
      "outputs": [
        {
          "output_type": "display_data",
          "data": {
            "image/png": "[encoded data removed]",
            "text/plain": [
              "<Figure size 600x400 with 1 Axes>"
            ]
          },
          "metadata": {
            "needs_background": "light"
          }
        }
      ]
    },
    {
      "cell_type": "markdown",
      "source": [
        "#（3）残差の計算"
      ],
      "metadata": {
        "id": "1v6qEe6JteKd"
      }
    },
    {
      "cell_type": "code",
      "source": [
        "ipusiron = Y - (a*X+b)\n",
        "ipusiron"
      ],
      "metadata": {
        "id": "Wi5_TRMesiDQ",
        "colab": {
          "base_uri": "https://localhost:8080/"
        },
        "outputId": "91b1f1fa-8d2d-4d40-a779-0303e45ae16d"
      },
      "execution_count": null,
      "outputs": [
        {
          "output_type": "execute_result",
          "data": {
            "text/plain": [
              "array([-0.74137931,  1.39655172, -0.89655172,  0.24137931])"
            ]
          },
          "metadata": {},
          "execution_count": 14
        }
      ]
    },
    {
      "cell_type": "markdown",
      "source": [
        "#（4）説明変数と残差の共分散"
      ],
      "metadata": {
        "id": "rl8BOaVP6nOu"
      }
    },
    {
      "cell_type": "code",
      "source": [
        "ipusiron_bar = sum(ipusiron)/len(ipusiron)\n",
        "x_ipu_kyo = sum((X-x_bar)*(ipusiron-ipusiron_bar))/len(X)\n",
        "x_ipu_kyo"
      ],
      "metadata": {
        "id": "i6PZlDSOshCX",
        "colab": {
          "base_uri": "https://localhost:8080/"
        },
        "outputId": "0275cd6a-99e9-4df0-a55d-2d0aa47dfc18"
      },
      "execution_count": null,
      "outputs": [
        {
          "output_type": "execute_result",
          "data": {
            "text/plain": [
              "-5.551115123125783e-17"
            ]
          },
          "metadata": {},
          "execution_count": 15
        }
      ]
    },
    {
      "cell_type": "markdown",
      "source": [
        "#（5）目的変数の推定値と残差の共分散"
      ],
      "metadata": {
        "id": "KbE6mYYI9yfK"
      }
    },
    {
      "cell_type": "code",
      "source": [
        "y_suitei = a*X+b\n",
        "y_suitei_bar = sum(y_suitei)/len(y_suitei)\n",
        "y_suitei_kyo = sum((y_suitei-y_suitei_bar)*(ipusiron-ipusiron_bar))/len(y_suitei)\n",
        "y_suitei_kyo"
      ],
      "metadata": {
        "id": "wPLku5_izMe7",
        "colab": {
          "base_uri": "https://localhost:8080/"
        },
        "outputId": "60d9f63f-03b7-4f7d-d02a-cd5d45bb8d7d"
      },
      "execution_count": null,
      "outputs": [
        {
          "output_type": "execute_result",
          "data": {
            "text/plain": [
              "4.163336342344337e-17"
            ]
          },
          "metadata": {},
          "execution_count": 16
        }
      ]
    },
    {
      "cell_type": "markdown",
      "source": [
        "#（6）決定係数"
      ],
      "metadata": {
        "id": "eJ2DAG-R90dd"
      }
    },
    {
      "cell_type": "code",
      "source": [
        "var_ipu = sum((ipusiron-ipusiron_bar)**2)/len(ipusiron)\n",
        "var_y = sum((Y-y_bar)**2)/len(Y)"
      ],
      "metadata": {
        "id": "eZi0H_N_9cny"
      },
      "execution_count": null,
      "outputs": []
    },
    {
      "cell_type": "code",
      "source": [
        "R_2 = 1-(var_ipu/var_y)\n",
        "R_2"
      ],
      "metadata": {
        "colab": {
          "base_uri": "https://localhost:8080/"
        },
        "id": "BbPDOUUa-yjA",
        "outputId": "5c7eb636-3153-4b57-8fef-c616adfa1c10"
      },
      "execution_count": null,
      "outputs": [
        {
          "output_type": "execute_result",
          "data": {
            "text/plain": [
              "0.6157635467980296"
            ]
          },
          "metadata": {},
          "execution_count": 13
        }
      ]
    }
  ]
}