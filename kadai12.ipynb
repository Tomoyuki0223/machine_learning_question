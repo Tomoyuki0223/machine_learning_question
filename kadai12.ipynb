{
  "nbformat": 4,
  "nbformat_minor": 0,
  "metadata": {
    "colab": {
      "name": "kadai12.ipynb",
      "provenance": [],
      "collapsed_sections": [],
      "authorship_tag": "ABX9TyNIHez9NFIGTJ6igwpEG1Ip",
      "include_colab_link": true
    },
    "kernelspec": {
      "name": "python3",
      "display_name": "Python 3"
    },
    "language_info": {
      "name": "python"
    }
  },
  "cells": [
    {
      "cell_type": "markdown",
      "metadata": {
        "id": "view-in-github",
        "colab_type": "text"
      },
      "source": [
        "<a href=\"https://colab.research.google.com/github/Tomoyuki0223/machine_learning_question/blob/main/kadai12.ipynb\" target=\"_parent\"><img src=\"https://colab.research.google.com/assets/colab-badge.svg\" alt=\"Open In Colab\"/></a>"
      ]
    },
    {
      "cell_type": "code",
      "execution_count": 1,
      "metadata": {
        "id": "c1_q6h8zPeBM"
      },
      "outputs": [],
      "source": [
        "import numpy as np\n",
        "import pandas as pd\n",
        "import matplotlib.pyplot as plt\n",
        "import matplotlib.animation\n",
        "from IPython.display import HTML"
      ]
    },
    {
      "cell_type": "markdown",
      "source": [
        "#（1）Sの計算"
      ],
      "metadata": {
        "id": "aRpihvRTpJzL"
      }
    },
    {
      "cell_type": "code",
      "source": [
        "X = np.array([[-7, -2], [-3, -3], [4, 1], [6, 4]])"
      ],
      "metadata": {
        "id": "WFcRXcEalBTQ"
      },
      "execution_count": 2,
      "outputs": []
    },
    {
      "cell_type": "code",
      "source": [
        "S = X.T @ X\n",
        "S"
      ],
      "metadata": {
        "colab": {
          "base_uri": "https://localhost:8080/"
        },
        "id": "2W1F8CH6o06e",
        "outputId": "0527eeaf-a871-4fce-c41c-9898041cda5e"
      },
      "execution_count": 3,
      "outputs": [
        {
          "output_type": "execute_result",
          "data": {
            "text/plain": [
              "array([[110,  51],\n",
              "       [ 51,  30]])"
            ]
          },
          "metadata": {},
          "execution_count": 3
        }
      ]
    },
    {
      "cell_type": "markdown",
      "source": [
        "#（2）固有値問題の解"
      ],
      "metadata": {
        "id": "M2FmzQjhpTEh"
      }
    },
    {
      "cell_type": "code",
      "source": [
        "S_eig = np.linalg.eig(S)\n",
        "λ = S_eig[0]\n",
        "u = S_eig[1]"
      ],
      "metadata": {
        "id": "8G3SjSm3o_O8"
      },
      "execution_count": 4,
      "outputs": []
    },
    {
      "cell_type": "code",
      "source": [
        "λ #固有値"
      ],
      "metadata": {
        "colab": {
          "base_uri": "https://localhost:8080/"
        },
        "id": "2LfPlo_ppu4k",
        "outputId": "100dce01-3ff0-4c50-8f44-d874e33368f8"
      },
      "execution_count": 5,
      "outputs": [
        {
          "output_type": "execute_result",
          "data": {
            "text/plain": [
              "array([134.81512169,   5.18487831])"
            ]
          },
          "metadata": {},
          "execution_count": 5
        }
      ]
    },
    {
      "cell_type": "code",
      "source": [
        "u #固有ベクトル（正規化済）"
      ],
      "metadata": {
        "colab": {
          "base_uri": "https://localhost:8080/"
        },
        "id": "fuPsXOfRp0Nk",
        "outputId": "dfb4c07b-6b46-4d99-91a8-d5088f3681cf"
      },
      "execution_count": 6,
      "outputs": [
        {
          "output_type": "execute_result",
          "data": {
            "text/plain": [
              "array([[ 0.89920519, -0.43752718],\n",
              "       [ 0.43752718,  0.89920519]])"
            ]
          },
          "metadata": {},
          "execution_count": 6
        }
      ]
    },
    {
      "cell_type": "markdown",
      "source": [
        "# (3)(4) 第1主成分と第2主成分"
      ],
      "metadata": {
        "id": "y9UBDIUwqFP6"
      }
    },
    {
      "cell_type": "markdown",
      "source": [
        "### 第一主成分"
      ],
      "metadata": {
        "id": "I4mdfJK2AoNb"
      }
    },
    {
      "cell_type": "code",
      "source": [
        "u_1 = u[:,0]\n",
        "u_1 #第一主成分"
      ],
      "metadata": {
        "colab": {
          "base_uri": "https://localhost:8080/"
        },
        "id": "4qsWKfKXp4_U",
        "outputId": "0a8de81e-e65b-4309-863b-c3243dc32440"
      },
      "execution_count": 7,
      "outputs": [
        {
          "output_type": "execute_result",
          "data": {
            "text/plain": [
              "array([0.89920519, 0.43752718])"
            ]
          },
          "metadata": {},
          "execution_count": 7
        }
      ]
    },
    {
      "cell_type": "code",
      "source": [
        "a_1 = X @ u_1\n",
        "a_1 #第一主成分得点"
      ],
      "metadata": {
        "colab": {
          "base_uri": "https://localhost:8080/"
        },
        "id": "-quhHrqLtsAp",
        "outputId": "9b8cdbdd-a3df-4fce-9117-f9857b769dc7"
      },
      "execution_count": 9,
      "outputs": [
        {
          "output_type": "execute_result",
          "data": {
            "text/plain": [
              "array([-7.16949066, -4.0101971 ,  4.03434793,  7.14533984])"
            ]
          },
          "metadata": {},
          "execution_count": 9
        }
      ]
    },
    {
      "cell_type": "code",
      "source": [
        "J_1 = sum(a_1**2)/len(a_1)\n",
        "J_1 #分散"
      ],
      "metadata": {
        "colab": {
          "base_uri": "https://localhost:8080/"
        },
        "id": "_BBgI9509UWj",
        "outputId": "a4da01c8-7446-446a-9f1e-e82a962032af"
      },
      "execution_count": 13,
      "outputs": [
        {
          "output_type": "execute_result",
          "data": {
            "text/plain": [
              "33.7037804230988"
            ]
          },
          "metadata": {},
          "execution_count": 13
        }
      ]
    },
    {
      "cell_type": "markdown",
      "source": [
        "### 第二主成分"
      ],
      "metadata": {
        "id": "YHTMZDZ9ArFq"
      }
    },
    {
      "cell_type": "code",
      "source": [
        "u_2 = u[:,1]\n",
        "u_2 #第二主成分"
      ],
      "metadata": {
        "colab": {
          "base_uri": "https://localhost:8080/"
        },
        "id": "_Iz-IgkN-9Gq",
        "outputId": "8c47ef4c-8a23-4e44-d7fa-75db08fa5123"
      },
      "execution_count": 14,
      "outputs": [
        {
          "output_type": "execute_result",
          "data": {
            "text/plain": [
              "array([-0.43752718,  0.89920519])"
            ]
          },
          "metadata": {},
          "execution_count": 14
        }
      ]
    },
    {
      "cell_type": "code",
      "source": [
        "a_2 = X @ u_2\n",
        "a_2 #第二主成分得点"
      ],
      "metadata": {
        "colab": {
          "base_uri": "https://localhost:8080/"
        },
        "id": "bgkALaI2Avcc",
        "outputId": "64092788-c8d4-4903-b760-14dcf30edcc3"
      },
      "execution_count": 15,
      "outputs": [
        {
          "output_type": "execute_result",
          "data": {
            "text/plain": [
              "array([ 1.26427988, -1.38503402, -0.85090353,  0.97165767])"
            ]
          },
          "metadata": {},
          "execution_count": 15
        }
      ]
    },
    {
      "cell_type": "code",
      "source": [
        "J_2 = sum(a_2**2)/len(a_2)\n",
        "J_2 #分散"
      ],
      "metadata": {
        "colab": {
          "base_uri": "https://localhost:8080/"
        },
        "id": "hQxPViXfA4e4",
        "outputId": "522ac4a1-cda4-423d-e7bf-949169ed01c8"
      },
      "execution_count": 16,
      "outputs": [
        {
          "output_type": "execute_result",
          "data": {
            "text/plain": [
              "1.2962195769011975"
            ]
          },
          "metadata": {},
          "execution_count": 16
        }
      ]
    }
  ]
}